{
  "nbformat": 4,
  "nbformat_minor": 0,
  "metadata": {
    "colab": {
      "name": "ML INTERNSHIP WORKSHEET1.ipynb",
      "provenance": [],
      "collapsed_sections": []
    },
    "kernelspec": {
      "name": "python3",
      "display_name": "Python 3"
    },
    "language_info": {
      "name": "python"
    }
  },
  "cells": [
    {
      "cell_type": "code",
      "execution_count": 4,
      "metadata": {
        "colab": {
          "base_uri": "https://localhost:8080/"
        },
        "id": "yJLNz_bkCzRd",
        "outputId": "20694926-d156-4e53-97c5-067089235f08"
      },
      "outputs": [
        {
          "output_type": "stream",
          "name": "stdout",
          "text": [
            "Enter the number4\n",
            "factorial is:  24\n"
          ]
        }
      ],
      "source": [
        "#factorial using recursion\n",
        "def factorial(n):\n",
        "  if n<0:\n",
        "    return \"can't find factorial for negative number\"\n",
        "  elif n==0:\n",
        "    return 1\n",
        "  elif n==1:\n",
        "    return n\n",
        "  else:\n",
        "    return n*factorial(n-1)\n",
        "\n",
        "ip = int(input(\"Enter the number: \"))\n",
        "print('factorial is: ',factorial(ip))"
      ]
    },
    {
      "cell_type": "code",
      "source": [
        "# return the relation of that person to Luke.\n",
        "relation_to_luke = {\n",
        "  \"Darth Vader\": \"father\",\n",
        "  \"Leia\": \"sister\",\n",
        "  \"Han\": \"brother in law\",\n",
        "  \"R2D2\": \"droid\"\n",
        "}\n",
        "person_name = input(\"Enter the person name \")\n",
        "print('\"Luke, I am your',relation_to_luke[str(person_name)],'.\"')"
      ],
      "metadata": {
        "colab": {
          "base_uri": "https://localhost:8080/"
        },
        "id": "qIwxgWuhDOul",
        "outputId": "21c5c579-1ca9-49c5-bf65-2318394ef6c2"
      },
      "execution_count": 12,
      "outputs": [
        {
          "output_type": "stream",
          "name": "stdout",
          "text": [
            "Enter the person name R2D2\n",
            "\"Luke, I am your droid .\"\n"
          ]
        }
      ]
    },
    {
      "cell_type": "code",
      "source": [
        "#return the number of digits\n",
        "def no_of_digits(n):\n",
        "  count=0\n",
        "  while n != 0:\n",
        "    n //= 10\n",
        "    count += 1\n",
        "  return count   \n",
        "number = int(input(\"Enter the number \"))\n",
        "print('Number of digits is ',no_of_digits(number))"
      ],
      "metadata": {
        "colab": {
          "base_uri": "https://localhost:8080/"
        },
        "id": "EvHd5JKvFlt2",
        "outputId": "0cd91852-aa6e-47fc-a78a-d8f155e46bf1"
      },
      "execution_count": 17,
      "outputs": [
        {
          "output_type": "stream",
          "name": "stdout",
          "text": [
            "Enter the number 345\n",
            "Number of digits is  3\n"
          ]
        }
      ]
    },
    {
      "cell_type": "code",
      "source": [
        "#function which takes a number as argument and gives results as multiplication of factorial of each positive number less than or equal to the number given number\n",
        "\n",
        "import math\n",
        "\n",
        "def fact(n):\n",
        "  return math.factorial(n)\n",
        "def fact_of_fact(n):\n",
        "  if n<0:\n",
        "    return \"can't find factorial for negative number\"\n",
        "  f = 1\n",
        "  for i in range(1,n+1):\n",
        "    f = f*fact(i)\n",
        "  return f  \n",
        "\n",
        "num = int(input(\"Enter the number: \"))\n",
        "print('Ans: ',fact_of_fact(num))"
      ],
      "metadata": {
        "colab": {
          "base_uri": "https://localhost:8080/"
        },
        "id": "OeEL0KpuHTIu",
        "outputId": "25aeca31-5159-496f-a66e-ac7f3dedc8be"
      },
      "execution_count": 38,
      "outputs": [
        {
          "output_type": "stream",
          "name": "stdout",
          "text": [
            "Enter the number: 5\n",
            "Ans:  34560\n"
          ]
        }
      ]
    },
    {
      "cell_type": "code",
      "source": [
        "'''function which takes any number of arguments from a user and return the result which\n",
        "should be output of a2 + b2+ c2+… if a , b ,c are numbers supplied ..i.e if 1,2,3 are supplied then result\n",
        "returned should be 14. But user may supply any number of inputs so make the function to adapt to\n",
        "that.'''\n",
        "\n",
        "\n",
        "def any_no_of_arg(*nums):\n",
        "    ans=0\n",
        "    for num in nums:\n",
        "        ans += num * num\n",
        "    return ans\n",
        "\n",
        "tot_ip = int(input(\"Enter the total number of inputs: \"))\n",
        "ip = [1]\n",
        "for i in range(0,tot_ip):\n",
        "  ip.append(int(input(f'Enter the input {i+1}: '))) \n",
        "i,*lst = ip\n",
        "any_no_of_arg(*lst) "
      ],
      "metadata": {
        "colab": {
          "base_uri": "https://localhost:8080/"
        },
        "id": "am64ec9JKQDL",
        "outputId": "39609b01-b2dd-4908-ea01-f7d83306516e"
      },
      "execution_count": 52,
      "outputs": [
        {
          "name": "stdout",
          "output_type": "stream",
          "text": [
            "Enter the total number of inputs: 4\n",
            "Enter the input 1: 1\n",
            "Enter the input 2: 2\n",
            "Enter the input 3: 3\n",
            "Enter the input 4: 4\n"
          ]
        },
        {
          "output_type": "execute_result",
          "data": {
            "text/plain": [
              "30"
            ]
          },
          "metadata": {},
          "execution_count": 52
        }
      ]
    },
    {
      "cell_type": "code",
      "source": [
        "'''function should return the result of\n",
        "given operation. operation supported should be +, -, *, and /'''\n",
        "\n",
        "def operations(num1,num2,op):\n",
        "  if op=='+':\n",
        "    return num1+num2\n",
        "  elif op=='-':\n",
        "    return num1-num2\n",
        "  elif op=='*':\n",
        "    return num1*num2\n",
        "  elif op=='/':\n",
        "    return num1/num2\n",
        "  else:\n",
        "    return \"enter a valid operation !\"\n",
        "\n",
        "a = int(input(\"Enter the 1st value \"))\n",
        "b = int(input(\"Enter the 2nd value \"))\n",
        "operator = input(\"Enter the operator \")\n",
        "\n",
        "print('Answer ',operations(a,b,operator))"
      ],
      "metadata": {
        "colab": {
          "base_uri": "https://localhost:8080/"
        },
        "id": "kbdsAPMXKTG8",
        "outputId": "3f5e6e34-d7c8-4c10-8293-229e897bf25a"
      },
      "execution_count": 61,
      "outputs": [
        {
          "output_type": "stream",
          "name": "stdout",
          "text": [
            "Enter the 1st value 5\n",
            "Enter the 2nd value 22\n",
            "Enter the operator *\n",
            "Answer  110\n"
          ]
        }
      ]
    },
    {
      "cell_type": "code",
      "source": [
        "'''\n",
        "function which takes an argument which should be a numeric +ve integer. Depending on\n",
        "the input supplied you have to print “I CAN”, “I WILL”\n",
        "'''\n",
        "\n",
        "text1 = \"I CAN\"\n",
        "text2 = \"I WILL\"\n",
        "Ans = []\n",
        "num_ = int(input(\"Enter the number: \"))\n",
        "for i in range(0,num_):\n",
        "  if i%2==0:\n",
        "    Ans.append(text1)\n",
        "  else:\n",
        "    Ans.append(text2)\n",
        "print(Ans)  \n"
      ],
      "metadata": {
        "colab": {
          "base_uri": "https://localhost:8080/"
        },
        "id": "ZUTuIsLqWkoQ",
        "outputId": "e6b4837b-f2b5-4fa3-807c-1e29a06e06dc"
      },
      "execution_count": 5,
      "outputs": [
        {
          "output_type": "stream",
          "name": "stdout",
          "text": [
            "Enter the number: 3\n",
            "['I CAN', 'I WILL', 'I CAN']\n"
          ]
        }
      ]
    },
    {
      "cell_type": "code",
      "source": [
        "'''\n",
        "We have been given a list of whole numbers which represents the color of each gloves, determine\n",
        "how many pairs of gloves with matching colors there are.\n",
        "'''\n",
        "lst = []\n",
        "tot = int(input('Enter the total number of gloves: '))\n",
        "for i in range(0,tot):\n",
        "  lst.append(int(input(f'Enter {i+1} glove color number: ')))\n",
        "lst.sort()\n",
        "i = 0\n",
        "pairs=0\n",
        "while i < (len(lst)-1):\n",
        "  if (lst[i] == lst[i + 1]):\n",
        "    pairs += 1\n",
        "    i = i + 2\n",
        "  else:\n",
        "    i += 1\n",
        "\n",
        "print(pairs)"
      ],
      "metadata": {
        "colab": {
          "base_uri": "https://localhost:8080/"
        },
        "id": "vDscLlMgTzPU",
        "outputId": "2a0982b8-3713-47f8-e1e4-70f99e833c03"
      },
      "execution_count": 46,
      "outputs": [
        {
          "output_type": "stream",
          "name": "stdout",
          "text": [
            "Enter the total number of gloves: 7\n",
            "Enter 1 glove color number: 1\n",
            "Enter 2 glove color number: 2\n",
            "Enter 3 glove color number: 1\n",
            "Enter 4 glove color number: 2\n",
            "Enter 5 glove color number: 1\n",
            "Enter 6 glove color number: 3\n",
            "Enter 7 glove color number: 2\n",
            "2\n"
          ]
        }
      ]
    },
    {
      "cell_type": "code",
      "source": [
        "'''\n",
        "function that returns True if two arrays, when combined, form a consecutive sequence. A\n",
        "consecutive sequence is a sequence without any gaps in the integers\n",
        "'''\n",
        "\n",
        "\n",
        "lst1 = []\n",
        "tot1 = int(input('Enter the total number elements in list 1: '))\n",
        "for i in range(0,tot1):\n",
        "  lst1.append(int(input(f'Enter {i+1} element: ')))\n",
        "lst2 = []\n",
        "tot2 = int(input('Enter the total number elements in list 2: '))\n",
        "for i in range(0,tot2):\n",
        "  lst2.append(int(input(f'Enter {i+1} element: ')))\n",
        "\n",
        "\n",
        "def check_continuous(l1,l2):\n",
        "  l1.extend(l2)\n",
        "  return sorted(l1) == list(range(min(l1), max(l1)+1))\n",
        "\n",
        "print(check_continuous(lst1,lst2))"
      ],
      "metadata": {
        "colab": {
          "base_uri": "https://localhost:8080/"
        },
        "id": "xNQsAHp5hT1_",
        "outputId": "99f68b76-327a-475b-f852-8dd81ea0017e"
      },
      "execution_count": 49,
      "outputs": [
        {
          "output_type": "stream",
          "name": "stdout",
          "text": [
            "Enter the total number elements in list 1: 4\n",
            "Enter 1 element: 1\n",
            "Enter 2 element: 4\n",
            "Enter 3 element: 5\n",
            "Enter 4 element: 6\n",
            "Enter the total number elements in list 2: 3\n",
            "Enter 1 element: 2\n",
            "Enter 2 element: 3\n",
            "Enter 3 element: 7\n",
            "True\n"
          ]
        }
      ]
    },
    {
      "cell_type": "code",
      "source": [
        "'''\n",
        " to calculate the total profit made on the sales\n",
        "of a product. You are given a dictionary containing the cost price per unit (in dollars), sell price per\n",
        "unit (in dollars), and the starting inventory. Return the total profit made, rounded to the nearest\n",
        "dollar.\n",
        "'''\n",
        "\n",
        "profit = {}\n",
        "for i in range(0,3):\n",
        "  key = input(\"Enter key: \")\n",
        "  value = input(\"Enter the value: \")\n",
        "  profit[key] = value\n",
        "print (round((float(profit[list(profit.keys())[1]])-float(profit[list(profit.keys())[0]]))*float(profit[list(profit.keys())[2]])))"
      ],
      "metadata": {
        "colab": {
          "base_uri": "https://localhost:8080/"
        },
        "id": "lHwY814k20g6",
        "outputId": "5aa80928-c480-4c42-bf2c-c4ca45c7984e"
      },
      "execution_count": 89,
      "outputs": [
        {
          "output_type": "stream",
          "name": "stdout",
          "text": [
            "Enter key: cost_price\n",
            "Enter the value: 32.67\n",
            "Enter key: sell_price\n",
            "Enter the value: 45.00\n",
            "Enter key: inventory\n",
            "Enter the value: 1200\n",
            "14796\n"
          ]
        }
      ]
    },
    {
      "cell_type": "code",
      "source": [
        ""
      ],
      "metadata": {
        "id": "RUR6fb9pDDxw"
      },
      "execution_count": 90,
      "outputs": []
    }
  ]
}